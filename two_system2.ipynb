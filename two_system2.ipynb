{
  "nbformat": 4,
  "nbformat_minor": 0,
  "metadata": {
    "colab": {
      "provenance": []
    },
    "kernelspec": {
      "name": "python3",
      "display_name": "Python 3"
    },
    "language_info": {
      "name": "python"
    }
  },
  "cells": [
    {
      "cell_type": "code",
      "source": [
        "import numpy as np\n",
        "import random\n",
        "from scipy.linalg import expm\n",
        "from scipy.optimize import minimize\n",
        "import matplotlib.pyplot as plt\n",
        "import scipy.linalg as sclinalg"
      ],
      "metadata": {
        "id": "Wr2j1TnsR8n7"
      },
      "execution_count": null,
      "outputs": []
    },
    {
      "cell_type": "code",
      "source": [
        "#задаем размерности исходных пространств\n",
        "N_a=2\n",
        "N_b=3"
      ],
      "metadata": {
        "id": "0uKoUM7tSRxt"
      },
      "execution_count": null,
      "outputs": []
    },
    {
      "cell_type": "code",
      "source": [
        "#задаем вектора в пространствах А и В\n",
        "V_a=np.matrix(np.random.randn(N_a)).T\n",
        "V_b=np.matrix(np.random.randn(N_b)).T\n",
        "V_a"
      ],
      "metadata": {
        "colab": {
          "base_uri": "https://localhost:8080/"
        },
        "id": "-2eYQ6tOSTMv",
        "outputId": "9df544b9-2a06-4519-9e70-ed786ec88ef9"
      },
      "execution_count": null,
      "outputs": [
        {
          "output_type": "execute_result",
          "data": {
            "text/plain": [
              "matrix([[-0.96280308],\n",
              "        [-0.08065543]])"
            ]
          },
          "metadata": {},
          "execution_count": 3
        }
      ]
    },
    {
      "cell_type": "code",
      "source": [
        "ak = lambda t: np.sin(t)\n",
        "bk = lambda t: np.cos(t)\n",
        "ck = lambda t: np.sin(t)\n",
        "dk = lambda t: np.cos(t)\n",
        "ek = lambda t: np.sin(t)\n",
        "fk = lambda t: np.cos(t)\n",
        "\n",
        "F = lambda t: np.matrix([[0, 0, 0, 0, 0, ck(t)],\n",
        "                         [0, 0, 0, ak(t), 0, 0],\n",
        "                         [0, 0, 0, 0, bk(t), 0],\n",
        "                         [0, fk(t), 0, 0, 0, 0],\n",
        "                         [0, 0, ek(t), 0, 0, 0],\n",
        "                         [dk(t), 0, 0, 0, 0, 0]])"
      ],
      "metadata": {
        "id": "uG4w9N-PShEi"
      },
      "execution_count": null,
      "outputs": []
    },
    {
      "cell_type": "code",
      "source": [
        "#матрица с постоянными коэффициентами\n",
        "# F = lambda t: np.matrix([[0, 0, 0, 0, 0, 1],\n",
        "#                          [0, 0, 0, 1, 0, 0],\n",
        "#                          [0, 0, 0, 0, 1, 0],\n",
        "#                          [0, 1, 0, 0, 0, 0],\n",
        "#                          [0, 0, 1, 0, 0, 0],\n",
        "#                          [1, 0, 0, 0, 0, 0]])"
      ],
      "metadata": {
        "id": "zrnTnB5OyMhY"
      },
      "execution_count": null,
      "outputs": []
    },
    {
      "cell_type": "markdown",
      "source": [
        "В предположении, что собственные числа матрицы F меняются не столь сильно за промежуток времени $\\tau$, будем считать, что\n",
        "$$T\\exp \\left(\\int_t^{T+\\tau} F(t) dt \\right) \\approx \\exp\n",
        "\\left(F \\left(T+\\frac{\\tau}{2} \\right) \\cdot \\tau \\right)$$\n"
      ],
      "metadata": {
        "id": "KmwreWdC26IM"
      }
    },
    {
      "cell_type": "code",
      "source": [
        "def u(F, tau, t_i):\n",
        "  return sclinalg.expm(F(t_i-tau/2)*tau)"
      ],
      "metadata": {
        "id": "gDg9Rji2Sk22"
      },
      "execution_count": null,
      "outputs": []
    },
    {
      "cell_type": "code",
      "source": [
        "N = 5000\n",
        "t = np.linspace(0, 15, N+1)\n",
        "tau = t[1]-t[0]"
      ],
      "metadata": {
        "id": "WsBK-KcYSroW"
      },
      "execution_count": null,
      "outputs": []
    },
    {
      "cell_type": "code",
      "source": [
        "# #Находим вектор в простанстве С\n",
        "# V_c=np.tensordot(V_a,V_b,axes=0).flatten()\n",
        "# V_c"
      ],
      "metadata": {
        "id": "YMEUSWF7S2U6"
      },
      "execution_count": null,
      "outputs": []
    },
    {
      "cell_type": "code",
      "source": [
        "f = [np.matrix(np.zeros((6,1))) for i in range(N+1)]\n",
        "#Находим начальное состояние системы в пространстве C\n",
        "f[0] = np.matrix([[V_a[0, 0]*V_b[0, 0]],\n",
        "                  [V_a[0, 0]*V_b[1, 0]],\n",
        "                  [V_a[0, 0]*V_b[2, 0]],\n",
        "                  [V_a[1, 0]*V_b[0, 0]],\n",
        "                  [V_a[1, 0]*V_b[1, 0]],\n",
        "                  [V_a[1, 0]*V_b[2, 0]]])\n",
        "f[0]"
      ],
      "metadata": {
        "colab": {
          "base_uri": "https://localhost:8080/"
        },
        "id": "7X4rn1gSS7ew",
        "outputId": "bd48eb5c-3b33-4fea-8489-379d47d922ce"
      },
      "execution_count": null,
      "outputs": [
        {
          "output_type": "execute_result",
          "data": {
            "text/plain": [
              "matrix([[ 0.75048042],\n",
              "        [-1.26459713],\n",
              "        [ 0.66006273],\n",
              "        [ 0.06286885],\n",
              "        [-0.10593716],\n",
              "        [ 0.05529442]])"
            ]
          },
          "metadata": {},
          "execution_count": 9
        }
      ]
    },
    {
      "cell_type": "code",
      "source": [
        "#Вычисляем состояние системы в каждый момент времени\n",
        "for i in range(1, N+1):\n",
        "  f[i] = u(F, tau, t[i])@f[i-1]"
      ],
      "metadata": {
        "id": "BOu6IiCQTPBL"
      },
      "execution_count": null,
      "outputs": []
    },
    {
      "cell_type": "code",
      "source": [
        "\n",
        "def evq_metr(x):\n",
        "  a=np.array([x[0],x[1]])\n",
        "  b=np.array([x[2],x[3],x[4]])\n",
        "  c=np.tensordot(a,b,axes=0).flatten()\n",
        "  c=np.matrix(c)\n",
        "  c=c.T\n",
        "  evq=0\n",
        "  for i in range(len(c)):\n",
        "    evq=evq+float(fc[i]-c[i])**2\n",
        "  return evq"
      ],
      "metadata": {
        "id": "bwKAaXPsqjhS"
      },
      "execution_count": null,
      "outputs": []
    },
    {
      "cell_type": "code",
      "source": [
        "finall_arr=[]\n",
        "for i in range(N+1):\n",
        "  fc=f[i]\n",
        "  res = minimize(evq_metr, x0=[1, 0, 0, 2, 0])\n",
        "  finall_arr.append(res.fun)"
      ],
      "metadata": {
        "id": "Ctlgn78vTQpG"
      },
      "execution_count": null,
      "outputs": []
    },
    {
      "cell_type": "code",
      "source": [
        "#строим зависимость критерия перепутанности от времени\n",
        "plt.plot(finall_arr)\n",
        "plt.show()"
      ],
      "metadata": {
        "colab": {
          "base_uri": "https://localhost:8080/",
          "height": 430
        },
        "id": "cdFn6YumWQbM",
        "outputId": "d906b9e1-308a-499c-dc62-99ff4b0245a3"
      },
      "execution_count": null,
      "outputs": [
        {
          "output_type": "display_data",
          "data": {
            "text/plain": [
              "<Figure size 640x480 with 1 Axes>"
            ],
            "image/png": "[encoded data removed]"
          },
          "metadata": {}
        }
      ]
    },
    {
      "cell_type": "code",
      "source": [],
      "metadata": {
        "colab": {
          "base_uri": "https://localhost:8080/"
        },
        "id": "gNhFQDl8rmWv",
        "outputId": "1851a975-d8e0-4f5b-902e-a38a071fbb09"
      },
      "execution_count": null,
      "outputs": [
        {
          "output_type": "stream",
          "name": "stdout",
          "text": [
            "0.563220861645021\n",
            "10.657594414631447\n",
            "0.43568280392505887\n",
            "0.00395249170835213\n",
            "0.011222680985098146\n",
            "0.003057473164178958\n"
          ]
        }
      ]
    }
  ]
}